{
 "cells": [
  {
   "cell_type": "code",
   "execution_count": 2,
   "id": "88e9571d",
   "metadata": {},
   "outputs": [
    {
     "name": "stdout",
     "output_type": "stream",
     "text": [
      "Name: Adegbile Faithful IyeOluwwa\n",
      "Email: faithfuladvocate@gmail.com\n",
      "Phone Number: 08089513800\n"
     ]
    }
   ],
   "source": [
    "print('Name: Adegbile Faithful IyeOluwwa')\n",
    "print('Email: faithfuladvocate@gmail.com')\n",
    "print('Phone Number: 08089513800')"
   ]
  },
  {
   "cell_type": "code",
   "execution_count": null,
   "id": "d377a340",
   "metadata": {},
   "outputs": [],
   "source": []
  }
 ],
 "metadata": {
  "kernelspec": {
   "display_name": "Python 3",
   "language": "python",
   "name": "python3"
  },
  "language_info": {
   "codemirror_mode": {
    "name": "ipython",
    "version": 3
   },
   "file_extension": ".py",
   "mimetype": "text/x-python",
   "name": "python",
   "nbconvert_exporter": "python",
   "pygments_lexer": "ipython3",
   "version": "3.8.8"
  }
 },
 "nbformat": 4,
 "nbformat_minor": 5
}
